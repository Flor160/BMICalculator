{
  "cells": [
    {
      "cell_type": "markdown",
      "metadata": {
        "id": "view-in-github",
        "colab_type": "text"
      },
      "source": [
        "<a href=\"https://colab.research.google.com/github/Flor160/BMICalculator/blob/main/02PythonEnPocosPasosEjercicios.ipynb\" target=\"_parent\"><img src=\"https://colab.research.google.com/assets/colab-badge.svg\" alt=\"Open In Colab\"/></a>"
      ]
    },
    {
      "cell_type": "markdown",
      "metadata": {
        "id": "sH8lkc6e1cM8"
      },
      "source": [
        "# Python En Pocos Pasos: Ejercicios \n",
        "\n",
        "Este es un ejercicio para evaluar su comprensión de los Fundamentos de Python."
      ]
    },
    {
      "cell_type": "markdown",
      "metadata": {
        "id": "DVthlBmm1cNE"
      },
      "source": [
        "## Ejercicios\n",
        "\n",
        "Responda las preguntas o complete las tareas que se detallan en negrita a continuación, use el método específico descrito, si corresponde."
      ]
    },
    {
      "cell_type": "markdown",
      "metadata": {
        "id": "oNtOzRMC1cNF"
      },
      "source": [
        "** ¿Cuánto es 7 a la potencia de 4?**"
      ]
    },
    {
      "cell_type": "code",
      "execution_count": null,
      "metadata": {
        "colab": {
          "base_uri": "https://localhost:8080/"
        },
        "id": "bidIQSpC1cNG",
        "outputId": "118cb4eb-212d-4e54-984a-dd6014c80a28"
      },
      "outputs": [
        {
          "output_type": "execute_result",
          "data": {
            "text/plain": [
              "2401"
            ]
          },
          "metadata": {},
          "execution_count": 1
        }
      ],
      "source": [
        "7**4"
      ]
    },
    {
      "cell_type": "markdown",
      "metadata": {
        "id": "Cwo6cu0p1cNH"
      },
      "source": [
        "** Divida esta cadena:**\n",
        "\n",
        "    s = \"Hola que tal\"\n",
        "    \n",
        "**en una lista. **"
      ]
    },
    {
      "cell_type": "code",
      "execution_count": null,
      "metadata": {
        "id": "5X-mUtdz1cNH"
      },
      "outputs": [],
      "source": [
        "s = 'Hola que tal'\n",
        "lista = s.split()"
      ]
    },
    {
      "cell_type": "code",
      "execution_count": null,
      "metadata": {
        "colab": {
          "base_uri": "https://localhost:8080/"
        },
        "id": "16m2VaGA1cNI",
        "outputId": "c2585ac1-6b6f-4a9c-d059-c06d44422e5f"
      },
      "outputs": [
        {
          "output_type": "execute_result",
          "data": {
            "text/plain": [
              "['Hola', 'que', 'tal']"
            ]
          },
          "metadata": {},
          "execution_count": 7
        }
      ],
      "source": [
        "lista"
      ]
    },
    {
      "cell_type": "markdown",
      "metadata": {
        "id": "kkGoi9wv1cNI"
      },
      "source": [
        "** Dadas las variables:**\n",
        "\n",
        "    planeta = \"Tierra\"\n",
        "    diametro = 12742\n",
        "\n",
        "** Use .format() para imprimir la siguiente cadena: **\n",
        "\n",
        "    El diámetro de la Tierra es de 12742 kilómetros."
      ]
    },
    {
      "cell_type": "code",
      "execution_count": null,
      "metadata": {
        "id": "VrJbkKko1cNI"
      },
      "outputs": [],
      "source": [
        "planeta = \"Tierra\"\n",
        "diametro = 12742"
      ]
    },
    {
      "cell_type": "code",
      "execution_count": null,
      "metadata": {
        "colab": {
          "base_uri": "https://localhost:8080/"
        },
        "id": "KM_amR0T1cNJ",
        "outputId": "0761fa64-4149-4694-cf86-41e02790225b"
      },
      "outputs": [
        {
          "output_type": "stream",
          "name": "stdout",
          "text": [
            "El diametro de la Tierra es de 12742 kilómetros.\n"
          ]
        }
      ],
      "source": [
        "print('El diametro de la {} es de {} kilómetros.'.format(planeta,diametro))"
      ]
    },
    {
      "cell_type": "markdown",
      "metadata": {
        "id": "vUn7VxAm1cNJ"
      },
      "source": [
        "** Dada esta lista anidada, usa indexación para tomar la palabra \"hola\" **"
      ]
    },
    {
      "cell_type": "code",
      "execution_count": null,
      "metadata": {
        "id": "bu8YO6L_1cNJ"
      },
      "outputs": [],
      "source": [
        "lst = [1,2,[3,4],[5,[100,200,['hola']],23,11],1,7]"
      ]
    },
    {
      "cell_type": "code",
      "execution_count": null,
      "metadata": {
        "colab": {
          "base_uri": "https://localhost:8080/"
        },
        "id": "Rm20ju2h1cNJ",
        "outputId": "9c731aff-c01a-4347-f5fe-a0375f97a505"
      },
      "outputs": [
        {
          "output_type": "execute_result",
          "data": {
            "text/plain": [
              "['hola']"
            ]
          },
          "metadata": {},
          "execution_count": 34
        }
      ],
      "source": [
        "lst[3][1][2]"
      ]
    },
    {
      "cell_type": "markdown",
      "metadata": {
        "id": "E_oX0y1Z1cNK"
      },
      "source": [
        "** Dado este diccionario anidado, tome la palabra \"hola\". **"
      ]
    },
    {
      "cell_type": "code",
      "execution_count": null,
      "metadata": {
        "id": "OsMbozER1cNK"
      },
      "outputs": [],
      "source": [
        "d = {'c1':[1,2,3,{'truco':['oh','hombre','incepción',{'destino':[1,2,3,'hola']}]}]}"
      ]
    },
    {
      "cell_type": "code",
      "execution_count": null,
      "metadata": {
        "colab": {
          "base_uri": "https://localhost:8080/",
          "height": 35
        },
        "id": "AcF00bOi1cNK",
        "outputId": "f1bb3104-f3c0-460c-8fcb-eed675e8058a"
      },
      "outputs": [
        {
          "output_type": "execute_result",
          "data": {
            "application/vnd.google.colaboratory.intrinsic+json": {
              "type": "string"
            },
            "text/plain": [
              "'hola'"
            ]
          },
          "metadata": {},
          "execution_count": 48
        }
      ],
      "source": [
        "d['c1'][3]['truco'][3]['destino'][3]"
      ]
    },
    {
      "cell_type": "markdown",
      "metadata": {
        "id": "qTI2wxLG1cNK"
      },
      "source": [
        "** ¿Cuál es la principal diferencia entre una tupla y una lista? **"
      ]
    },
    {
      "cell_type": "code",
      "execution_count": null,
      "metadata": {
        "collapsed": true,
        "id": "EXWS3f2G1cNL"
      },
      "outputs": [],
      "source": [
        "# La tupla es un conjunto de elementos inmutables del mismo o diferentes tipos. Las listas tienen funciones adicionales que permiten un amplio manejo de sus elementos. Las listas son dinámicas, mientras que las tuplas son estática"
      ]
    },
    {
      "cell_type": "markdown",
      "metadata": {
        "id": "piUMtvWX1cNL"
      },
      "source": [
        "** Cree una función que capture el dominio del sitio web de correo electrónico a partir de una cadena con el siguiente formato: **\n",
        "\n",
        "    usuario@dominio.com\n",
        "    \n",
        "**Entonces, por ejemplo, pasar \"usuario@dominio.com\" devolvería: dominio.com**"
      ]
    },
    {
      "cell_type": "code",
      "execution_count": null,
      "metadata": {
        "id": "0qPDa3Zi1cNL"
      },
      "outputs": [],
      "source": [
        "def obtenerDominio(dominio):\n",
        "  rest = dominio[dominio.index('@') + 1 : ]\n",
        "  return rest"
      ]
    },
    {
      "cell_type": "code",
      "execution_count": null,
      "metadata": {
        "colab": {
          "base_uri": "https://localhost:8080/",
          "height": 35
        },
        "id": "aj3PXJuZ1cNL",
        "outputId": "e481dce4-4014-432a-e7ec-7357242cf087"
      },
      "outputs": [
        {
          "output_type": "execute_result",
          "data": {
            "application/vnd.google.colaboratory.intrinsic+json": {
              "type": "string"
            },
            "text/plain": [
              "'dominio.com'"
            ]
          },
          "metadata": {},
          "execution_count": 57
        }
      ],
      "source": [
        "obtenerDominio('usuario@dominio.com')"
      ]
    },
    {
      "cell_type": "markdown",
      "metadata": {
        "id": "txNHqbQS1cNL"
      },
      "source": [
        "** Cree una función básica que devuelva True si la palabra 'perro' está contenida en la cadena de entrada. No se preocupe por los casos extremos como una puntuación que se adjunta a la palabra perro, no diferencie mayúsculas de minúsculas. **"
      ]
    },
    {
      "cell_type": "code",
      "execution_count": null,
      "metadata": {
        "id": "lRB4TXkU1cNM"
      },
      "outputs": [],
      "source": [
        "def encontrarPerro(cadena):\n",
        "  if 'perro' in cadena.casefold():\n",
        "    return True\n",
        "\n",
        "  return False\n"
      ]
    },
    {
      "cell_type": "code",
      "execution_count": null,
      "metadata": {
        "colab": {
          "base_uri": "https://localhost:8080/"
        },
        "id": "Xam2-csH1cNM",
        "outputId": "5f59177f-de3b-4c89-824d-28739e6a3cc8"
      },
      "outputs": [
        {
          "output_type": "execute_result",
          "data": {
            "text/plain": [
              "True"
            ]
          },
          "metadata": {},
          "execution_count": 126
        }
      ],
      "source": [
        "encontrarPerro('¿Hay algún perro por ahí?')"
      ]
    },
    {
      "cell_type": "markdown",
      "metadata": {
        "id": "vpRovOA11cNM"
      },
      "source": [
        "** Crea una función que cuente la cantidad de veces que aparece la palabra \"perro\" en una cadena. Nuevamente ignore los casos extremos. **"
      ]
    },
    {
      "cell_type": "code",
      "execution_count": null,
      "metadata": {
        "id": "dF0nj96F1cNM"
      },
      "outputs": [],
      "source": [
        "def contarPerro(cadena):\n",
        "  print (cadena.casefold().count('perro'))\n",
        "  "
      ]
    },
    {
      "cell_type": "code",
      "execution_count": null,
      "metadata": {
        "colab": {
          "base_uri": "https://localhost:8080/"
        },
        "id": "rUJFo8JW1cNM",
        "outputId": "3fc3e6b7-ee0e-4dfb-c7a5-7db172ad2436"
      },
      "outputs": [
        {
          "output_type": "stream",
          "name": "stdout",
          "text": [
            "2\n"
          ]
        }
      ],
      "source": [
        "contarPerro('Este perro corre más rápido que el otro perro')"
      ]
    },
    {
      "cell_type": "markdown",
      "metadata": {
        "id": "AxCrT4bW1cNM"
      },
      "source": [
        "** Use expresiones lambda y la función filter () para filtrar las palabras de una lista que no comienza con la letra 's'. Por ejemplo:**\n",
        "\n",
        "    seq = ['sopa', 'perro', 'salado,'gato','excelente']\n",
        "\n",
        "**debe ser filtrado a:**\n",
        "\n",
        "    ['sopa', 'salado']"
      ]
    },
    {
      "cell_type": "code",
      "execution_count": null,
      "metadata": {
        "id": "aMFRb9xK1cNN"
      },
      "outputs": [],
      "source": [
        "seq = ['sopa', 'perro', 'salado','gato','excelente']"
      ]
    },
    {
      "cell_type": "code",
      "execution_count": null,
      "metadata": {
        "colab": {
          "base_uri": "https://localhost:8080/"
        },
        "id": "DkXq5JwH1cNN",
        "outputId": "662a0380-bfb3-4358-9449-4f447d8af48a"
      },
      "outputs": [
        {
          "output_type": "execute_result",
          "data": {
            "text/plain": [
              "['sopa', 'salado']"
            ]
          },
          "metadata": {},
          "execution_count": 145
        }
      ],
      "source": [
        "filter(lambda x: x[0].lower() in 's',seq)\n",
        "list(filter(lambda x: x[0].lower() in 's',seq))"
      ]
    },
    {
      "cell_type": "markdown",
      "metadata": {
        "id": "khXI4Yv-1cNN"
      },
      "source": [
        "# Problema Final\n",
        "**Usted conduce un poco demasiado rápido, y un oficial de policía lo detiene. Escriba una función para devolver uno de los 3 posibles resultados: \"Sin infracción\", \"Infracción leve\" o \"Infracción Grave\". Si su velocidad es 60 o menos, el resultado es \"Sin infracción\". Si la velocidad está entre 61 y 80 inclusive, el resultado es \"Infracción leve\". Si la velocidad es 81 o más, el resultado es \"Infracción Grave\". A menos que sea su cumpleaños (codificado como un valor booleano en los parámetros de la función) - en su cumpleaños, su velocidad puede ser 5 más alta en todos los casos.**"
      ]
    },
    {
      "cell_type": "code",
      "execution_count": null,
      "metadata": {
        "id": "j_Cuvo1E1cNN"
      },
      "outputs": [],
      "source": [
        "def saber_infraccion(vel, cumple):\n",
        "  cinco = 0\n",
        "  result = [\"Sin infraccion\", \"Infraccion leve\", \"Infraccion grave\"]\n",
        "\n",
        "  if cumple==True:\n",
        "    cinco = 5\n",
        "  if vel <=60 + cinco:\n",
        "    print(result[0])\n",
        "  elif vel >=61+cinco and vel<=80+cinco:\n",
        "    print(result[1])\n",
        "  elif vel>=81+cinco:\n",
        "    print(result[2])"
      ]
    },
    {
      "cell_type": "code",
      "execution_count": null,
      "metadata": {
        "colab": {
          "base_uri": "https://localhost:8080/"
        },
        "id": "PpKEvriX1cNN",
        "outputId": "2ebc6907-dd1b-4b90-e71d-f81569285e02"
      },
      "outputs": [
        {
          "output_type": "stream",
          "name": "stdout",
          "text": [
            "Infraccion leve\n"
          ]
        }
      ],
      "source": [
        "saber_infraccion(81,True)"
      ]
    },
    {
      "cell_type": "code",
      "execution_count": null,
      "metadata": {
        "colab": {
          "base_uri": "https://localhost:8080/"
        },
        "id": "YzbKZFbR1cNO",
        "outputId": "adfcb794-0559-4151-8266-ae6b9d13da22"
      },
      "outputs": [
        {
          "output_type": "stream",
          "name": "stdout",
          "text": [
            "Infraccion grave\n"
          ]
        }
      ],
      "source": [
        "saber_infraccion(81,False)"
      ]
    },
    {
      "cell_type": "markdown",
      "metadata": {
        "id": "Nc_DIHX61cNO"
      },
      "source": [
        "# ¡Excelente!"
      ]
    }
  ],
  "metadata": {
    "kernelspec": {
      "display_name": "Python 3",
      "language": "python",
      "name": "python3"
    },
    "language_info": {
      "codemirror_mode": {
        "name": "ipython",
        "version": 3
      },
      "file_extension": ".py",
      "mimetype": "text/x-python",
      "name": "python",
      "nbconvert_exporter": "python",
      "pygments_lexer": "ipython3",
      "version": "3.6.4"
    },
    "colab": {
      "name": "02PythonEnPocosPasosEjercicios.ipynb",
      "provenance": [],
      "collapsed_sections": [],
      "include_colab_link": true
    }
  },
  "nbformat": 4,
  "nbformat_minor": 0
}